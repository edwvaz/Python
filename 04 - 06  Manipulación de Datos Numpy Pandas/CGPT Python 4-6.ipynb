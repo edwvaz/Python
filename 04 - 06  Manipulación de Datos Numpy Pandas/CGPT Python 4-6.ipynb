{
 "cells": [
  {
   "cell_type": "markdown",
   "metadata": {},
   "source": [
    "Librerías que se usan despues de numpy.\n",
    "Pandas:permite procesar datos estructurados datos en formato tabular.\n",
    "Matplotlib: es una de las librerías básicas para generar visualizaciones para graficar datos.\n",
    "Scikit-learn: es la librería que implementa algoritmos clásicos de Machine learning. \n",
    "Tensor Floyd y PyTorch: se enfocan en el desarrollo de arquitecturas de Deep learning."
   ]
  },
  {
   "cell_type": "code",
   "execution_count": 3,
   "metadata": {},
   "outputs": [
    {
     "data": {
      "text/plain": [
       "[1, 2, 3, 4, 5, 5, 6, 7, 8, 9]"
      ]
     },
     "execution_count": 3,
     "metadata": {},
     "output_type": "execute_result"
    }
   ],
   "source": [
    "lista1=[1,2,3,4,5]\n",
    "lista2=[5,6,7,8,9]\n",
    "u=lista1+lista2\n",
    "u"
   ]
  },
  {
   "cell_type": "code",
   "execution_count": 7,
   "metadata": {},
   "outputs": [
    {
     "name": "stdout",
     "output_type": "stream",
     "text": [
      "[6, 8, 10, 12, 14]\n"
     ]
    }
   ],
   "source": [
    "#Para hacer la suma puedo hacer así\n",
    "resultado=[]\n",
    "for i in range(len(lista2)):\n",
    "    resultado.append(lista1[i]+lista2[i])\n",
    "print(resultado)"
   ]
  },
  {
   "cell_type": "code",
   "execution_count": 9,
   "metadata": {},
   "outputs": [
    {
     "data": {
      "text/plain": [
       "array([ 6,  8, 10, 12, 14])"
      ]
     },
     "execution_count": 9,
     "metadata": {},
     "output_type": "execute_result"
    }
   ],
   "source": [
    "#Ahora lo haremos con numpy\n",
    "import numpy as np\n",
    "a=np.array(lista1)\n",
    "b=np.array(lista2)\n",
    "suma=a+b\n",
    "suma"
   ]
  },
  {
   "cell_type": "code",
   "execution_count": 10,
   "metadata": {},
   "outputs": [
    {
     "data": {
      "text/plain": [
       "array([0.2       , 0.33333333, 0.42857143, 0.5       , 0.55555556])"
      ]
     },
     "execution_count": 10,
     "metadata": {},
     "output_type": "execute_result"
    }
   ],
   "source": [
    "div= a/b\n",
    "div"
   ]
  },
  {
   "cell_type": "code",
   "execution_count": 12,
   "metadata": {},
   "outputs": [
    {
     "data": {
      "text/plain": [
       "array([      1,      64,    2187,   65536, 1953125])"
      ]
     },
     "execution_count": 12,
     "metadata": {},
     "output_type": "execute_result"
    }
   ],
   "source": [
    "pot=a**b\n",
    "pot"
   ]
  },
  {
   "cell_type": "code",
   "execution_count": 18,
   "metadata": {},
   "outputs": [
    {
     "name": "stdout",
     "output_type": "stream",
     "text": [
      "['a', 'b', 'c', 'd', 'a', 'b', 'c', 'd']\n",
      "['a', 'b', 'c', 'd', 'e', 'f', 'g', 'h']\n"
     ]
    }
   ],
   "source": [
    "lista3=[\"a\",\"b\",\"c\",\"d\"]\n",
    "lista4=[\"e\",\"f\",\"g\",\"h\"]\n",
    "c=np.array(lista3)\n",
    "d=np.array(lista4)\n",
    "print(2*lista3)\n",
    "print(lista3 + lista4)\n",
    "#print(c+d)"
   ]
  },
  {
   "cell_type": "code",
   "execution_count": 22,
   "metadata": {},
   "outputs": [
    {
     "name": "stdout",
     "output_type": "stream",
     "text": [
      "[6.5, 9.0, 8.0, 7.5]\n"
     ]
    }
   ],
   "source": [
    "#Crea un algoritmo que calcule el promedio de cada estudiante\n",
    "alumnos=lista3\n",
    "nota1= [7,8,9,7]\n",
    "nota2= [6,10,7,8]\n",
    "promedio=[]\n",
    "for i in range(len(nota1)):\n",
    "    promedio.append((nota1[i]+nota2[i])/2)\n",
    "print(promedio)"
   ]
  },
  {
   "cell_type": "code",
   "execution_count": 23,
   "metadata": {},
   "outputs": [
    {
     "name": "stdout",
     "output_type": "stream",
     "text": [
      "[6.5, 9.0, 8.0, 7.5]\n"
     ]
    }
   ],
   "source": [
    "n1=np.array(nota1)\n",
    "n2=np.array(nota2)\n",
    "promedio2=(n1+n2)/2\n",
    "print(promedio)"
   ]
  },
  {
   "cell_type": "code",
   "execution_count": 34,
   "metadata": {},
   "outputs": [
    {
     "name": "stdout",
     "output_type": "stream",
     "text": [
      "[35.55555555555556, 18.51851851851852, 18.078512396694215, 34.76562499999999]\n"
     ]
    }
   ],
   "source": [
    "# Resolviendo con listas\n",
    "pesos=[80,60,56,89]\n",
    "alturas=[1.5, 1.8,1.76,1.6]\n",
    "imc=[]\n",
    "for i in range(len(pesos)):\n",
    "    imc.append(pesos[i]/((alturas[i]))**2)\n",
    "print(imc)"
   ]
  },
  {
   "cell_type": "code",
   "execution_count": 35,
   "metadata": {},
   "outputs": [
    {
     "data": {
      "text/plain": [
       "array([35.55555556, 18.51851852, 18.0785124 , 34.765625  ])"
      ]
     },
     "execution_count": 35,
     "metadata": {},
     "output_type": "execute_result"
    }
   ],
   "source": [
    "#Resolviendo con vectores\n",
    "peso=np.array(pesos)\n",
    "altura=np.array(alturas)\n",
    "imc=peso/(altura**2)\n",
    "imc"
   ]
  },
  {
   "cell_type": "markdown",
   "metadata": {},
   "source": [
    "Funciones y Métodos"
   ]
  },
  {
   "cell_type": "code",
   "execution_count": 41,
   "metadata": {},
   "outputs": [
    {
     "name": "stdout",
     "output_type": "stream",
     "text": [
      "int32\n",
      "float64\n",
      "1\n",
      "(4,)\n",
      "4\n"
     ]
    }
   ],
   "source": [
    "print(peso.dtype)\n",
    "print(altura.dtype) #para conocer el tipo\n",
    "print(peso.ndim) #para conocer la dimension en columna\n",
    "print(peso.shape) #para conocer la dimension, notar que me da una tupla\n",
    "print(peso.size) #para conocer la dimension en fila"
   ]
  },
  {
   "cell_type": "code",
   "execution_count": 56,
   "metadata": {},
   "outputs": [
    {
     "name": "stdout",
     "output_type": "stream",
     "text": [
      "15\n",
      "15\n",
      "120\n",
      "120\n",
      "3.0\n",
      "3.0\n",
      "1\n",
      "5\n",
      "0\n",
      "4\n",
      "[1 2 3 4 5]\n",
      "[1 2 3 4 5]\n",
      "[0 1 2 3 4]\n"
     ]
    }
   ],
   "source": [
    "# a=lista1=[1,2,3,4,5]     b=lista2=[5,6,7,8,9]\n",
    "print(np.sum(a)) # Suma de elementos. Acá suma como función\n",
    "print(a.sum()) # suma de elementos. Acá suma como método\n",
    "print(np.prod(a))# producto de todos los elementos. Función\n",
    "print(a.prod())\n",
    "print(np.mean(a))# promedio de todos los elementos. Función\n",
    "print(a.mean())\n",
    "print(np.min(a))# minimo valor\n",
    "print(np.max(a))# maximo valor\n",
    "print(a.argmin())# posición del minimo valor\n",
    "print(a.argmax())# posición del máximo valor \n",
    "print(np.unique(a))# elementos únicos (notar que no dará repetidos) y ordena de menor a mayor\n",
    "print(np.sort(a))# ordenar de menor a mayor. Notar que este este te guarda o modifica la variable original, tener cuidado con este para no modificar los datos \n",
    "print(a.argsort())# ordenar de menor a mayor los valores de la lista y luego retorna una lista con los indices(o posición) que ocupaban antes.\n",
    "# o sea el valor de la izquierda de la lista retornada será el indice correspondiente al menor valor de la lista original"
   ]
  },
  {
   "attachments": {
    "image.png": {
     "image/png": "[encoded data removed]"
    }
   },
   "cell_type": "markdown",
   "metadata": {},
   "source": [
    "![image.png](attachment:image.png)"
   ]
  },
  {
   "cell_type": "code",
   "execution_count": 57,
   "metadata": {},
   "outputs": [
    {
     "name": "stdout",
     "output_type": "stream",
     "text": [
      "1.4142135623730951\n",
      "2.0\n",
      "55\n",
      "[1.         1.41421356 1.73205081 2.         2.23606798]\n",
      "[1 2 3 4 5]\n",
      "[1 2 3 4 5]\n"
     ]
    }
   ],
   "source": [
    "print(np.std(a))# desviación estandar\n",
    "print(np.var(a))# varianza\n",
    "print(np.dot(a,a))# producto punto\n",
    "print(np.sqrt(a))# raiz cuadrada \n",
    "print(np.abs(a))# valores absolutos \n",
    "print(np.copy(a))# copy"
   ]
  },
  {
   "cell_type": "code",
   "execution_count": 59,
   "metadata": {},
   "outputs": [],
   "source": [
    "import pandas as pd"
   ]
  },
  {
   "cell_type": "code",
   "execution_count": 60,
   "metadata": {},
   "outputs": [
    {
     "data": {
      "text/html": [
       "<div>\n",
       "<style scoped>\n",
       "    .dataframe tbody tr th:only-of-type {\n",
       "        vertical-align: middle;\n",
       "    }\n",
       "\n",
       "    .dataframe tbody tr th {\n",
       "        vertical-align: top;\n",
       "    }\n",
       "\n",
       "    .dataframe thead th {\n",
       "        text-align: right;\n",
       "    }\n",
       "</style>\n",
       "<table border=\"1\" class=\"dataframe\">\n",
       "  <thead>\n",
       "    <tr style=\"text-align: right;\">\n",
       "      <th></th>\n",
       "      <th>Nombre</th>\n",
       "      <th>Edad</th>\n",
       "      <th>Altura</th>\n",
       "    </tr>\n",
       "  </thead>\n",
       "  <tbody>\n",
       "    <tr>\n",
       "      <th>0</th>\n",
       "      <td>Juan</td>\n",
       "      <td>16</td>\n",
       "      <td>1.69</td>\n",
       "    </tr>\n",
       "    <tr>\n",
       "      <th>1</th>\n",
       "      <td>Maria</td>\n",
       "      <td>15</td>\n",
       "      <td>1.60</td>\n",
       "    </tr>\n",
       "    <tr>\n",
       "      <th>2</th>\n",
       "      <td>Pedro</td>\n",
       "      <td>16</td>\n",
       "      <td>1.73</td>\n",
       "    </tr>\n",
       "    <tr>\n",
       "      <th>3</th>\n",
       "      <td>Fernanda</td>\n",
       "      <td>17</td>\n",
       "      <td>1.62</td>\n",
       "    </tr>\n",
       "  </tbody>\n",
       "</table>\n",
       "</div>"
      ],
      "text/plain": [
       "     Nombre  Edad  Altura\n",
       "0      Juan    16    1.69\n",
       "1     Maria    15    1.60\n",
       "2     Pedro    16    1.73\n",
       "3  Fernanda    17    1.62"
      ]
     },
     "execution_count": 60,
     "metadata": {},
     "output_type": "execute_result"
    }
   ],
   "source": [
    "df1 = pd.read_csv(r\"4 -6 Numpy Pandas\\lista_personas - Hoja 1.csv\")\n",
    "df1"
   ]
  },
  {
   "cell_type": "code",
   "execution_count": 61,
   "metadata": {},
   "outputs": [
    {
     "data": {
      "text/html": [
       "<div>\n",
       "<style scoped>\n",
       "    .dataframe tbody tr th:only-of-type {\n",
       "        vertical-align: middle;\n",
       "    }\n",
       "\n",
       "    .dataframe tbody tr th {\n",
       "        vertical-align: top;\n",
       "    }\n",
       "\n",
       "    .dataframe thead th {\n",
       "        text-align: right;\n",
       "    }\n",
       "</style>\n",
       "<table border=\"1\" class=\"dataframe\">\n",
       "  <thead>\n",
       "    <tr style=\"text-align: right;\">\n",
       "      <th></th>\n",
       "      <th>Nombre</th>\n",
       "      <th>Apellido</th>\n",
       "      <th>Edad</th>\n",
       "      <th>Peso</th>\n",
       "      <th>Altura</th>\n",
       "    </tr>\n",
       "  </thead>\n",
       "  <tbody>\n",
       "    <tr>\n",
       "      <th>0</th>\n",
       "      <td>Roberto</td>\n",
       "      <td>Alfaro</td>\n",
       "      <td>16</td>\n",
       "      <td>70</td>\n",
       "      <td>1.78</td>\n",
       "    </tr>\n",
       "    <tr>\n",
       "      <th>1</th>\n",
       "      <td>Laura</td>\n",
       "      <td>Bustamante</td>\n",
       "      <td>15</td>\n",
       "      <td>57</td>\n",
       "      <td>1.60</td>\n",
       "    </tr>\n",
       "    <tr>\n",
       "      <th>2</th>\n",
       "      <td>Erick</td>\n",
       "      <td>Estrada</td>\n",
       "      <td>16</td>\n",
       "      <td>65</td>\n",
       "      <td>1.74</td>\n",
       "    </tr>\n",
       "    <tr>\n",
       "      <th>3</th>\n",
       "      <td>Maria</td>\n",
       "      <td>Domínguez</td>\n",
       "      <td>15</td>\n",
       "      <td>52</td>\n",
       "      <td>1.60</td>\n",
       "    </tr>\n",
       "    <tr>\n",
       "      <th>4</th>\n",
       "      <td>Jorge</td>\n",
       "      <td>Ortíz</td>\n",
       "      <td>17</td>\n",
       "      <td>60</td>\n",
       "      <td>1.70</td>\n",
       "    </tr>\n",
       "    <tr>\n",
       "      <th>5</th>\n",
       "      <td>Rosa</td>\n",
       "      <td>Jiménez</td>\n",
       "      <td>16</td>\n",
       "      <td>56</td>\n",
       "      <td>1.53</td>\n",
       "    </tr>\n",
       "  </tbody>\n",
       "</table>\n",
       "</div>"
      ],
      "text/plain": [
       "    Nombre    Apellido  Edad  Peso  Altura\n",
       "0  Roberto      Alfaro    16    70    1.78\n",
       "1    Laura  Bustamante    15    57    1.60\n",
       "2    Erick     Estrada    16    65    1.74\n",
       "3    Maria   Domínguez    15    52    1.60\n",
       "4   Jorge        Ortíz    17    60    1.70\n",
       "5     Rosa     Jiménez    16    56    1.53"
      ]
     },
     "execution_count": 61,
     "metadata": {},
     "output_type": "execute_result"
    }
   ],
   "source": [
    "df = pd.read_csv(r\"4 -6 Numpy Pandas\\listaclase - Hoja 1.csv\")\n",
    "df"
   ]
  },
  {
   "cell_type": "code",
   "execution_count": 66,
   "metadata": {},
   "outputs": [
    {
     "name": "stdout",
     "output_type": "stream",
     "text": [
      "    Nombre    Apellido  Edad  Peso  Altura\n",
      "0  Roberto      Alfaro    16    70    1.78\n",
      "1    Laura  Bustamante    15    57    1.60\n",
      "2    Erick     Estrada    16    65    1.74\n",
      "3    Maria   Domínguez    15    52    1.60\n",
      "4   Jorge        Ortíz    17    60    1.70\n"
     ]
    },
    {
     "data": {
      "text/html": [
       "<div>\n",
       "<style scoped>\n",
       "    .dataframe tbody tr th:only-of-type {\n",
       "        vertical-align: middle;\n",
       "    }\n",
       "\n",
       "    .dataframe tbody tr th {\n",
       "        vertical-align: top;\n",
       "    }\n",
       "\n",
       "    .dataframe thead th {\n",
       "        text-align: right;\n",
       "    }\n",
       "</style>\n",
       "<table border=\"1\" class=\"dataframe\">\n",
       "  <thead>\n",
       "    <tr style=\"text-align: right;\">\n",
       "      <th></th>\n",
       "      <th>Nombre</th>\n",
       "      <th>Apellido</th>\n",
       "      <th>Edad</th>\n",
       "      <th>Peso</th>\n",
       "      <th>Altura</th>\n",
       "    </tr>\n",
       "  </thead>\n",
       "  <tbody>\n",
       "    <tr>\n",
       "      <th>0</th>\n",
       "      <td>Roberto</td>\n",
       "      <td>Alfaro</td>\n",
       "      <td>16</td>\n",
       "      <td>70</td>\n",
       "      <td>1.78</td>\n",
       "    </tr>\n",
       "    <tr>\n",
       "      <th>1</th>\n",
       "      <td>Laura</td>\n",
       "      <td>Bustamante</td>\n",
       "      <td>15</td>\n",
       "      <td>57</td>\n",
       "      <td>1.60</td>\n",
       "    </tr>\n",
       "    <tr>\n",
       "      <th>2</th>\n",
       "      <td>Erick</td>\n",
       "      <td>Estrada</td>\n",
       "      <td>16</td>\n",
       "      <td>65</td>\n",
       "      <td>1.74</td>\n",
       "    </tr>\n",
       "    <tr>\n",
       "      <th>3</th>\n",
       "      <td>Maria</td>\n",
       "      <td>Domínguez</td>\n",
       "      <td>15</td>\n",
       "      <td>52</td>\n",
       "      <td>1.60</td>\n",
       "    </tr>\n",
       "    <tr>\n",
       "      <th>4</th>\n",
       "      <td>Jorge</td>\n",
       "      <td>Ortíz</td>\n",
       "      <td>17</td>\n",
       "      <td>60</td>\n",
       "      <td>1.70</td>\n",
       "    </tr>\n",
       "  </tbody>\n",
       "</table>\n",
       "</div>"
      ],
      "text/plain": [
       "    Nombre    Apellido  Edad  Peso  Altura\n",
       "0  Roberto      Alfaro    16    70    1.78\n",
       "1    Laura  Bustamante    15    57    1.60\n",
       "2    Erick     Estrada    16    65    1.74\n",
       "3    Maria   Domínguez    15    52    1.60\n",
       "4   Jorge        Ortíz    17    60    1.70"
      ]
     },
     "execution_count": 66,
     "metadata": {},
     "output_type": "execute_result"
    }
   ],
   "source": [
    "print(df.head())\n",
    "df.head()"
   ]
  },
  {
   "cell_type": "code",
   "execution_count": 92,
   "metadata": {},
   "outputs": [
    {
     "name": "stdout",
     "output_type": "stream",
     "text": [
      "<class 'pandas.core.frame.DataFrame'>\n",
      "            Edad       Peso    Altura        imc\n",
      "count   6.000000   6.000000  6.000000   6.000000\n",
      "mean   15.833333  60.000000  1.658333  21.804019\n",
      "std     0.752773   6.542171  0.096419   1.281286\n",
      "min    15.000000  52.000000  1.530000  20.312500\n",
      "25%    15.250000  56.250000  1.600000  20.938222\n",
      "50%    16.000000  58.500000  1.650000  21.781160\n",
      "75%    16.000000  63.750000  1.730000  22.222511\n",
      "max    17.000000  70.000000  1.780000  23.922423\n"
     ]
    }
   ],
   "source": [
    "print(type(df))\n",
    "print(df.describe())"
   ]
  },
  {
   "cell_type": "code",
   "execution_count": 68,
   "metadata": {},
   "outputs": [
    {
     "data": {
      "text/plain": [
       "0    16\n",
       "1    15\n",
       "2    16\n",
       "3    15\n",
       "4    17\n",
       "5    16\n",
       "Name: Edad, dtype: int64"
      ]
     },
     "execution_count": 68,
     "metadata": {},
     "output_type": "execute_result"
    }
   ],
   "source": [
    "df[\"Edad\"]"
   ]
  },
  {
   "cell_type": "code",
   "execution_count": 71,
   "metadata": {},
   "outputs": [
    {
     "data": {
      "text/html": [
       "<div>\n",
       "<style scoped>\n",
       "    .dataframe tbody tr th:only-of-type {\n",
       "        vertical-align: middle;\n",
       "    }\n",
       "\n",
       "    .dataframe tbody tr th {\n",
       "        vertical-align: top;\n",
       "    }\n",
       "\n",
       "    .dataframe thead th {\n",
       "        text-align: right;\n",
       "    }\n",
       "</style>\n",
       "<table border=\"1\" class=\"dataframe\">\n",
       "  <thead>\n",
       "    <tr style=\"text-align: right;\">\n",
       "      <th></th>\n",
       "      <th>Edad</th>\n",
       "      <th>Edad</th>\n",
       "      <th>Apellido</th>\n",
       "    </tr>\n",
       "  </thead>\n",
       "  <tbody>\n",
       "    <tr>\n",
       "      <th>0</th>\n",
       "      <td>16</td>\n",
       "      <td>16</td>\n",
       "      <td>Alfaro</td>\n",
       "    </tr>\n",
       "    <tr>\n",
       "      <th>1</th>\n",
       "      <td>15</td>\n",
       "      <td>15</td>\n",
       "      <td>Bustamante</td>\n",
       "    </tr>\n",
       "    <tr>\n",
       "      <th>2</th>\n",
       "      <td>16</td>\n",
       "      <td>16</td>\n",
       "      <td>Estrada</td>\n",
       "    </tr>\n",
       "    <tr>\n",
       "      <th>3</th>\n",
       "      <td>15</td>\n",
       "      <td>15</td>\n",
       "      <td>Domínguez</td>\n",
       "    </tr>\n",
       "    <tr>\n",
       "      <th>4</th>\n",
       "      <td>17</td>\n",
       "      <td>17</td>\n",
       "      <td>Ortíz</td>\n",
       "    </tr>\n",
       "    <tr>\n",
       "      <th>5</th>\n",
       "      <td>16</td>\n",
       "      <td>16</td>\n",
       "      <td>Jiménez</td>\n",
       "    </tr>\n",
       "  </tbody>\n",
       "</table>\n",
       "</div>"
      ],
      "text/plain": [
       "   Edad  Edad    Apellido\n",
       "0    16    16      Alfaro\n",
       "1    15    15  Bustamante\n",
       "2    16    16     Estrada\n",
       "3    15    15   Domínguez\n",
       "4    17    17       Ortíz\n",
       "5    16    16     Jiménez"
      ]
     },
     "execution_count": 71,
     "metadata": {},
     "output_type": "execute_result"
    }
   ],
   "source": [
    "df[[\"Edad\",\"Edad\",\"Apellido\"]]"
   ]
  },
  {
   "cell_type": "code",
   "execution_count": 73,
   "metadata": {},
   "outputs": [],
   "source": [
    "df[\"Nombre_completo\"]=df[\"Nombre\"]+\" \"+df[\"Apellido\"]\n",
    " #Notar que al hacer esto ya agrega la columna creada al dataframe."
   ]
  },
  {
   "cell_type": "code",
   "execution_count": 74,
   "metadata": {},
   "outputs": [
    {
     "data": {
      "text/html": [
       "<div>\n",
       "<style scoped>\n",
       "    .dataframe tbody tr th:only-of-type {\n",
       "        vertical-align: middle;\n",
       "    }\n",
       "\n",
       "    .dataframe tbody tr th {\n",
       "        vertical-align: top;\n",
       "    }\n",
       "\n",
       "    .dataframe thead th {\n",
       "        text-align: right;\n",
       "    }\n",
       "</style>\n",
       "<table border=\"1\" class=\"dataframe\">\n",
       "  <thead>\n",
       "    <tr style=\"text-align: right;\">\n",
       "      <th></th>\n",
       "      <th>Nombre</th>\n",
       "      <th>Apellido</th>\n",
       "      <th>Edad</th>\n",
       "      <th>Peso</th>\n",
       "      <th>Altura</th>\n",
       "      <th>Nombre_completo</th>\n",
       "    </tr>\n",
       "  </thead>\n",
       "  <tbody>\n",
       "    <tr>\n",
       "      <th>0</th>\n",
       "      <td>Roberto</td>\n",
       "      <td>Alfaro</td>\n",
       "      <td>16</td>\n",
       "      <td>70</td>\n",
       "      <td>1.78</td>\n",
       "      <td>Roberto Alfaro</td>\n",
       "    </tr>\n",
       "    <tr>\n",
       "      <th>1</th>\n",
       "      <td>Laura</td>\n",
       "      <td>Bustamante</td>\n",
       "      <td>15</td>\n",
       "      <td>57</td>\n",
       "      <td>1.60</td>\n",
       "      <td>Laura Bustamante</td>\n",
       "    </tr>\n",
       "    <tr>\n",
       "      <th>2</th>\n",
       "      <td>Erick</td>\n",
       "      <td>Estrada</td>\n",
       "      <td>16</td>\n",
       "      <td>65</td>\n",
       "      <td>1.74</td>\n",
       "      <td>Erick Estrada</td>\n",
       "    </tr>\n",
       "    <tr>\n",
       "      <th>3</th>\n",
       "      <td>Maria</td>\n",
       "      <td>Domínguez</td>\n",
       "      <td>15</td>\n",
       "      <td>52</td>\n",
       "      <td>1.60</td>\n",
       "      <td>Maria Domínguez</td>\n",
       "    </tr>\n",
       "    <tr>\n",
       "      <th>4</th>\n",
       "      <td>Jorge</td>\n",
       "      <td>Ortíz</td>\n",
       "      <td>17</td>\n",
       "      <td>60</td>\n",
       "      <td>1.70</td>\n",
       "      <td>Jorge  Ortíz</td>\n",
       "    </tr>\n",
       "    <tr>\n",
       "      <th>5</th>\n",
       "      <td>Rosa</td>\n",
       "      <td>Jiménez</td>\n",
       "      <td>16</td>\n",
       "      <td>56</td>\n",
       "      <td>1.53</td>\n",
       "      <td>Rosa Jiménez</td>\n",
       "    </tr>\n",
       "  </tbody>\n",
       "</table>\n",
       "</div>"
      ],
      "text/plain": [
       "    Nombre    Apellido  Edad  Peso  Altura   Nombre_completo\n",
       "0  Roberto      Alfaro    16    70    1.78    Roberto Alfaro\n",
       "1    Laura  Bustamante    15    57    1.60  Laura Bustamante\n",
       "2    Erick     Estrada    16    65    1.74     Erick Estrada\n",
       "3    Maria   Domínguez    15    52    1.60   Maria Domínguez\n",
       "4   Jorge        Ortíz    17    60    1.70      Jorge  Ortíz\n",
       "5     Rosa     Jiménez    16    56    1.53      Rosa Jiménez"
      ]
     },
     "execution_count": 74,
     "metadata": {},
     "output_type": "execute_result"
    }
   ],
   "source": [
    "df #Notar que se agregó la nueva columna\n"
   ]
  },
  {
   "cell_type": "code",
   "execution_count": 75,
   "metadata": {},
   "outputs": [],
   "source": [
    "df[\"Nombre_completo\"]=df[\"Nombre\"]+\" \"+df[\"Apellido\"]\n",
    "# Notar que al agregar la columna otra vez, no se adhiere dos veces al dataframe"
   ]
  },
  {
   "cell_type": "code",
   "execution_count": 76,
   "metadata": {},
   "outputs": [
    {
     "data": {
      "text/html": [
       "<div>\n",
       "<style scoped>\n",
       "    .dataframe tbody tr th:only-of-type {\n",
       "        vertical-align: middle;\n",
       "    }\n",
       "\n",
       "    .dataframe tbody tr th {\n",
       "        vertical-align: top;\n",
       "    }\n",
       "\n",
       "    .dataframe thead th {\n",
       "        text-align: right;\n",
       "    }\n",
       "</style>\n",
       "<table border=\"1\" class=\"dataframe\">\n",
       "  <thead>\n",
       "    <tr style=\"text-align: right;\">\n",
       "      <th></th>\n",
       "      <th>Nombre</th>\n",
       "      <th>Apellido</th>\n",
       "      <th>Edad</th>\n",
       "      <th>Peso</th>\n",
       "      <th>Altura</th>\n",
       "      <th>Nombre_completo</th>\n",
       "    </tr>\n",
       "  </thead>\n",
       "  <tbody>\n",
       "    <tr>\n",
       "      <th>0</th>\n",
       "      <td>Roberto</td>\n",
       "      <td>Alfaro</td>\n",
       "      <td>16</td>\n",
       "      <td>70</td>\n",
       "      <td>1.78</td>\n",
       "      <td>Roberto Alfaro</td>\n",
       "    </tr>\n",
       "    <tr>\n",
       "      <th>1</th>\n",
       "      <td>Laura</td>\n",
       "      <td>Bustamante</td>\n",
       "      <td>15</td>\n",
       "      <td>57</td>\n",
       "      <td>1.60</td>\n",
       "      <td>Laura Bustamante</td>\n",
       "    </tr>\n",
       "    <tr>\n",
       "      <th>2</th>\n",
       "      <td>Erick</td>\n",
       "      <td>Estrada</td>\n",
       "      <td>16</td>\n",
       "      <td>65</td>\n",
       "      <td>1.74</td>\n",
       "      <td>Erick Estrada</td>\n",
       "    </tr>\n",
       "    <tr>\n",
       "      <th>3</th>\n",
       "      <td>Maria</td>\n",
       "      <td>Domínguez</td>\n",
       "      <td>15</td>\n",
       "      <td>52</td>\n",
       "      <td>1.60</td>\n",
       "      <td>Maria Domínguez</td>\n",
       "    </tr>\n",
       "    <tr>\n",
       "      <th>4</th>\n",
       "      <td>Jorge</td>\n",
       "      <td>Ortíz</td>\n",
       "      <td>17</td>\n",
       "      <td>60</td>\n",
       "      <td>1.70</td>\n",
       "      <td>Jorge  Ortíz</td>\n",
       "    </tr>\n",
       "    <tr>\n",
       "      <th>5</th>\n",
       "      <td>Rosa</td>\n",
       "      <td>Jiménez</td>\n",
       "      <td>16</td>\n",
       "      <td>56</td>\n",
       "      <td>1.53</td>\n",
       "      <td>Rosa Jiménez</td>\n",
       "    </tr>\n",
       "  </tbody>\n",
       "</table>\n",
       "</div>"
      ],
      "text/plain": [
       "    Nombre    Apellido  Edad  Peso  Altura   Nombre_completo\n",
       "0  Roberto      Alfaro    16    70    1.78    Roberto Alfaro\n",
       "1    Laura  Bustamante    15    57    1.60  Laura Bustamante\n",
       "2    Erick     Estrada    16    65    1.74     Erick Estrada\n",
       "3    Maria   Domínguez    15    52    1.60   Maria Domínguez\n",
       "4   Jorge        Ortíz    17    60    1.70      Jorge  Ortíz\n",
       "5     Rosa     Jiménez    16    56    1.53      Rosa Jiménez"
      ]
     },
     "execution_count": 76,
     "metadata": {},
     "output_type": "execute_result"
    }
   ],
   "source": [
    "df"
   ]
  },
  {
   "cell_type": "code",
   "execution_count": 77,
   "metadata": {},
   "outputs": [
    {
     "data": {
      "text/html": [
       "<div>\n",
       "<style scoped>\n",
       "    .dataframe tbody tr th:only-of-type {\n",
       "        vertical-align: middle;\n",
       "    }\n",
       "\n",
       "    .dataframe tbody tr th {\n",
       "        vertical-align: top;\n",
       "    }\n",
       "\n",
       "    .dataframe thead th {\n",
       "        text-align: right;\n",
       "    }\n",
       "</style>\n",
       "<table border=\"1\" class=\"dataframe\">\n",
       "  <thead>\n",
       "    <tr style=\"text-align: right;\">\n",
       "      <th></th>\n",
       "      <th>Nombre</th>\n",
       "      <th>Apellido</th>\n",
       "      <th>Edad</th>\n",
       "      <th>Peso</th>\n",
       "      <th>Altura</th>\n",
       "      <th>Nombre_completo</th>\n",
       "      <th>imc</th>\n",
       "    </tr>\n",
       "  </thead>\n",
       "  <tbody>\n",
       "    <tr>\n",
       "      <th>0</th>\n",
       "      <td>Roberto</td>\n",
       "      <td>Alfaro</td>\n",
       "      <td>16</td>\n",
       "      <td>70</td>\n",
       "      <td>1.78</td>\n",
       "      <td>Roberto Alfaro</td>\n",
       "      <td>22.093170</td>\n",
       "    </tr>\n",
       "    <tr>\n",
       "      <th>1</th>\n",
       "      <td>Laura</td>\n",
       "      <td>Bustamante</td>\n",
       "      <td>15</td>\n",
       "      <td>57</td>\n",
       "      <td>1.60</td>\n",
       "      <td>Laura Bustamante</td>\n",
       "      <td>22.265625</td>\n",
       "    </tr>\n",
       "    <tr>\n",
       "      <th>2</th>\n",
       "      <td>Erick</td>\n",
       "      <td>Estrada</td>\n",
       "      <td>16</td>\n",
       "      <td>65</td>\n",
       "      <td>1.74</td>\n",
       "      <td>Erick Estrada</td>\n",
       "      <td>21.469150</td>\n",
       "    </tr>\n",
       "    <tr>\n",
       "      <th>3</th>\n",
       "      <td>Maria</td>\n",
       "      <td>Domínguez</td>\n",
       "      <td>15</td>\n",
       "      <td>52</td>\n",
       "      <td>1.60</td>\n",
       "      <td>Maria Domínguez</td>\n",
       "      <td>20.312500</td>\n",
       "    </tr>\n",
       "    <tr>\n",
       "      <th>4</th>\n",
       "      <td>Jorge</td>\n",
       "      <td>Ortíz</td>\n",
       "      <td>17</td>\n",
       "      <td>60</td>\n",
       "      <td>1.70</td>\n",
       "      <td>Jorge  Ortíz</td>\n",
       "      <td>20.761246</td>\n",
       "    </tr>\n",
       "    <tr>\n",
       "      <th>5</th>\n",
       "      <td>Rosa</td>\n",
       "      <td>Jiménez</td>\n",
       "      <td>16</td>\n",
       "      <td>56</td>\n",
       "      <td>1.53</td>\n",
       "      <td>Rosa Jiménez</td>\n",
       "      <td>23.922423</td>\n",
       "    </tr>\n",
       "  </tbody>\n",
       "</table>\n",
       "</div>"
      ],
      "text/plain": [
       "    Nombre    Apellido  Edad  Peso  Altura   Nombre_completo        imc\n",
       "0  Roberto      Alfaro    16    70    1.78    Roberto Alfaro  22.093170\n",
       "1    Laura  Bustamante    15    57    1.60  Laura Bustamante  22.265625\n",
       "2    Erick     Estrada    16    65    1.74     Erick Estrada  21.469150\n",
       "3    Maria   Domínguez    15    52    1.60   Maria Domínguez  20.312500\n",
       "4   Jorge        Ortíz    17    60    1.70      Jorge  Ortíz  20.761246\n",
       "5     Rosa     Jiménez    16    56    1.53      Rosa Jiménez  23.922423"
      ]
     },
     "execution_count": 77,
     "metadata": {},
     "output_type": "execute_result"
    }
   ],
   "source": [
    "df[\"imc\"]= df[\"Peso\"]/((df[\"Altura\"])**2) \n",
    "# Notar que se pueden operar la columnas utilizando series, paracido a los arrays\n",
    "df"
   ]
  },
  {
   "cell_type": "code",
   "execution_count": 81,
   "metadata": {},
   "outputs": [
    {
     "data": {
      "text/html": [
       "<div>\n",
       "<style scoped>\n",
       "    .dataframe tbody tr th:only-of-type {\n",
       "        vertical-align: middle;\n",
       "    }\n",
       "\n",
       "    .dataframe tbody tr th {\n",
       "        vertical-align: top;\n",
       "    }\n",
       "\n",
       "    .dataframe thead th {\n",
       "        text-align: right;\n",
       "    }\n",
       "</style>\n",
       "<table border=\"1\" class=\"dataframe\">\n",
       "  <thead>\n",
       "    <tr style=\"text-align: right;\">\n",
       "      <th></th>\n",
       "      <th>Nombre</th>\n",
       "      <th>Apellido</th>\n",
       "      <th>Edad</th>\n",
       "      <th>Peso</th>\n",
       "      <th>Altura</th>\n",
       "      <th>Nombre_completo</th>\n",
       "      <th>imc</th>\n",
       "    </tr>\n",
       "  </thead>\n",
       "  <tbody>\n",
       "    <tr>\n",
       "      <th>0</th>\n",
       "      <td>Roberto</td>\n",
       "      <td>Alfaro</td>\n",
       "      <td>16</td>\n",
       "      <td>70</td>\n",
       "      <td>1.78</td>\n",
       "      <td>Roberto Alfaro</td>\n",
       "      <td>22.093170</td>\n",
       "    </tr>\n",
       "    <tr>\n",
       "      <th>2</th>\n",
       "      <td>Erick</td>\n",
       "      <td>Estrada</td>\n",
       "      <td>16</td>\n",
       "      <td>65</td>\n",
       "      <td>1.74</td>\n",
       "      <td>Erick Estrada</td>\n",
       "      <td>21.469150</td>\n",
       "    </tr>\n",
       "    <tr>\n",
       "      <th>4</th>\n",
       "      <td>Jorge</td>\n",
       "      <td>Ortíz</td>\n",
       "      <td>17</td>\n",
       "      <td>60</td>\n",
       "      <td>1.70</td>\n",
       "      <td>Jorge  Ortíz</td>\n",
       "      <td>20.761246</td>\n",
       "    </tr>\n",
       "    <tr>\n",
       "      <th>5</th>\n",
       "      <td>Rosa</td>\n",
       "      <td>Jiménez</td>\n",
       "      <td>16</td>\n",
       "      <td>56</td>\n",
       "      <td>1.53</td>\n",
       "      <td>Rosa Jiménez</td>\n",
       "      <td>23.922423</td>\n",
       "    </tr>\n",
       "  </tbody>\n",
       "</table>\n",
       "</div>"
      ],
      "text/plain": [
       "    Nombre Apellido  Edad  Peso  Altura Nombre_completo        imc\n",
       "0  Roberto   Alfaro    16    70    1.78  Roberto Alfaro  22.093170\n",
       "2    Erick  Estrada    16    65    1.74   Erick Estrada  21.469150\n",
       "4   Jorge     Ortíz    17    60    1.70    Jorge  Ortíz  20.761246\n",
       "5     Rosa  Jiménez    16    56    1.53    Rosa Jiménez  23.922423"
      ]
     },
     "execution_count": 81,
     "metadata": {},
     "output_type": "execute_result"
    }
   ],
   "source": [
    "# df[filtro]      De esta forma obtendremos un dataframe filtrado\n",
    "# df[\"Edad\"]>=6\n",
    "df[df[\"Edad\"]>=16]"
   ]
  },
  {
   "cell_type": "code",
   "execution_count": 82,
   "metadata": {},
   "outputs": [
    {
     "data": {
      "text/html": [
       "<div>\n",
       "<style scoped>\n",
       "    .dataframe tbody tr th:only-of-type {\n",
       "        vertical-align: middle;\n",
       "    }\n",
       "\n",
       "    .dataframe tbody tr th {\n",
       "        vertical-align: top;\n",
       "    }\n",
       "\n",
       "    .dataframe thead th {\n",
       "        text-align: right;\n",
       "    }\n",
       "</style>\n",
       "<table border=\"1\" class=\"dataframe\">\n",
       "  <thead>\n",
       "    <tr style=\"text-align: right;\">\n",
       "      <th></th>\n",
       "      <th>Nombre</th>\n",
       "      <th>Apellido</th>\n",
       "      <th>Edad</th>\n",
       "      <th>Peso</th>\n",
       "      <th>Altura</th>\n",
       "      <th>Nombre_completo</th>\n",
       "      <th>imc</th>\n",
       "    </tr>\n",
       "  </thead>\n",
       "  <tbody>\n",
       "    <tr>\n",
       "      <th>0</th>\n",
       "      <td>Roberto</td>\n",
       "      <td>Alfaro</td>\n",
       "      <td>16</td>\n",
       "      <td>70</td>\n",
       "      <td>1.78</td>\n",
       "      <td>Roberto Alfaro</td>\n",
       "      <td>22.093170</td>\n",
       "    </tr>\n",
       "    <tr>\n",
       "      <th>2</th>\n",
       "      <td>Erick</td>\n",
       "      <td>Estrada</td>\n",
       "      <td>16</td>\n",
       "      <td>65</td>\n",
       "      <td>1.74</td>\n",
       "      <td>Erick Estrada</td>\n",
       "      <td>21.469150</td>\n",
       "    </tr>\n",
       "    <tr>\n",
       "      <th>4</th>\n",
       "      <td>Jorge</td>\n",
       "      <td>Ortíz</td>\n",
       "      <td>17</td>\n",
       "      <td>60</td>\n",
       "      <td>1.70</td>\n",
       "      <td>Jorge  Ortíz</td>\n",
       "      <td>20.761246</td>\n",
       "    </tr>\n",
       "  </tbody>\n",
       "</table>\n",
       "</div>"
      ],
      "text/plain": [
       "    Nombre Apellido  Edad  Peso  Altura Nombre_completo        imc\n",
       "0  Roberto   Alfaro    16    70    1.78  Roberto Alfaro  22.093170\n",
       "2    Erick  Estrada    16    65    1.74   Erick Estrada  21.469150\n",
       "4   Jorge     Ortíz    17    60    1.70    Jorge  Ortíz  20.761246"
      ]
     },
     "execution_count": 82,
     "metadata": {},
     "output_type": "execute_result"
    }
   ],
   "source": [
    "# Para hacer mas de un filtro df[()%()] df[()|()] alt124\n",
    "df[(df[\"Edad\"]>=16)&(df[\"Peso\"]>=60)]"
   ]
  },
  {
   "cell_type": "code",
   "execution_count": 89,
   "metadata": {},
   "outputs": [
    {
     "data": {
      "text/plain": [
       "Edad\n",
       "15    2\n",
       "16    3\n",
       "17    1\n",
       "dtype: int64"
      ]
     },
     "execution_count": 89,
     "metadata": {},
     "output_type": "execute_result"
    }
   ],
   "source": [
    "df.groupby(\"Edad\").size()"
   ]
  },
  {
   "cell_type": "code",
   "execution_count": 91,
   "metadata": {},
   "outputs": [
    {
     "ename": "KeyError",
     "evalue": "\"None of [Index([(False, False, False)], dtype='object')] are in the [columns]\"",
     "output_type": "error",
     "traceback": [
      "\u001b[1;31m---------------------------------------------------------------------------\u001b[0m",
      "\u001b[1;31mKeyError\u001b[0m                                  Traceback (most recent call last)",
      "Cell \u001b[1;32mIn[91], line 1\u001b[0m\n\u001b[1;32m----> 1\u001b[0m df[[df\u001b[39m.\u001b[39;49mgroupby(\u001b[39m\"\u001b[39;49m\u001b[39mEdad\u001b[39;49m\u001b[39m\"\u001b[39;49m)\u001b[39m.\u001b[39;49msize()\u001b[39m>\u001b[39;49m\u001b[39m10\u001b[39;49m]]\n\u001b[0;32m      2\u001b[0m \u001b[39m# df[df.groupby(\"Edad\").size()>10] #IndexingError: Unalignable boolean Series provided as indexer\u001b[39;00m\n",
      "File \u001b[1;32mc:\\Users\\Edwin\\AppData\\Local\\Programs\\Python\\Python311\\Lib\\site-packages\\pandas\\core\\frame.py:3813\u001b[0m, in \u001b[0;36mDataFrame.__getitem__\u001b[1;34m(self, key)\u001b[0m\n\u001b[0;32m   3811\u001b[0m     \u001b[39mif\u001b[39;00m is_iterator(key):\n\u001b[0;32m   3812\u001b[0m         key \u001b[39m=\u001b[39m \u001b[39mlist\u001b[39m(key)\n\u001b[1;32m-> 3813\u001b[0m     indexer \u001b[39m=\u001b[39m \u001b[39mself\u001b[39;49m\u001b[39m.\u001b[39;49mcolumns\u001b[39m.\u001b[39;49m_get_indexer_strict(key, \u001b[39m\"\u001b[39;49m\u001b[39mcolumns\u001b[39;49m\u001b[39m\"\u001b[39;49m)[\u001b[39m1\u001b[39m]\n\u001b[0;32m   3815\u001b[0m \u001b[39m# take() does not accept boolean indexers\u001b[39;00m\n\u001b[0;32m   3816\u001b[0m \u001b[39mif\u001b[39;00m \u001b[39mgetattr\u001b[39m(indexer, \u001b[39m\"\u001b[39m\u001b[39mdtype\u001b[39m\u001b[39m\"\u001b[39m, \u001b[39mNone\u001b[39;00m) \u001b[39m==\u001b[39m \u001b[39mbool\u001b[39m:\n",
      "File \u001b[1;32mc:\\Users\\Edwin\\AppData\\Local\\Programs\\Python\\Python311\\Lib\\site-packages\\pandas\\core\\indexes\\base.py:6070\u001b[0m, in \u001b[0;36mIndex._get_indexer_strict\u001b[1;34m(self, key, axis_name)\u001b[0m\n\u001b[0;32m   6067\u001b[0m \u001b[39melse\u001b[39;00m:\n\u001b[0;32m   6068\u001b[0m     keyarr, indexer, new_indexer \u001b[39m=\u001b[39m \u001b[39mself\u001b[39m\u001b[39m.\u001b[39m_reindex_non_unique(keyarr)\n\u001b[1;32m-> 6070\u001b[0m \u001b[39mself\u001b[39;49m\u001b[39m.\u001b[39;49m_raise_if_missing(keyarr, indexer, axis_name)\n\u001b[0;32m   6072\u001b[0m keyarr \u001b[39m=\u001b[39m \u001b[39mself\u001b[39m\u001b[39m.\u001b[39mtake(indexer)\n\u001b[0;32m   6073\u001b[0m \u001b[39mif\u001b[39;00m \u001b[39misinstance\u001b[39m(key, Index):\n\u001b[0;32m   6074\u001b[0m     \u001b[39m# GH 42790 - Preserve name from an Index\u001b[39;00m\n",
      "File \u001b[1;32mc:\\Users\\Edwin\\AppData\\Local\\Programs\\Python\\Python311\\Lib\\site-packages\\pandas\\core\\indexes\\base.py:6130\u001b[0m, in \u001b[0;36mIndex._raise_if_missing\u001b[1;34m(self, key, indexer, axis_name)\u001b[0m\n\u001b[0;32m   6128\u001b[0m     \u001b[39mif\u001b[39;00m use_interval_msg:\n\u001b[0;32m   6129\u001b[0m         key \u001b[39m=\u001b[39m \u001b[39mlist\u001b[39m(key)\n\u001b[1;32m-> 6130\u001b[0m     \u001b[39mraise\u001b[39;00m \u001b[39mKeyError\u001b[39;00m(\u001b[39mf\u001b[39m\u001b[39m\"\u001b[39m\u001b[39mNone of [\u001b[39m\u001b[39m{\u001b[39;00mkey\u001b[39m}\u001b[39;00m\u001b[39m] are in the [\u001b[39m\u001b[39m{\u001b[39;00maxis_name\u001b[39m}\u001b[39;00m\u001b[39m]\u001b[39m\u001b[39m\"\u001b[39m)\n\u001b[0;32m   6132\u001b[0m not_found \u001b[39m=\u001b[39m \u001b[39mlist\u001b[39m(ensure_index(key)[missing_mask\u001b[39m.\u001b[39mnonzero()[\u001b[39m0\u001b[39m]]\u001b[39m.\u001b[39munique())\n\u001b[0;32m   6133\u001b[0m \u001b[39mraise\u001b[39;00m \u001b[39mKeyError\u001b[39;00m(\u001b[39mf\u001b[39m\u001b[39m\"\u001b[39m\u001b[39m{\u001b[39;00mnot_found\u001b[39m}\u001b[39;00m\u001b[39m not in index\u001b[39m\u001b[39m\"\u001b[39m)\n",
      "\u001b[1;31mKeyError\u001b[0m: \"None of [Index([(False, False, False)], dtype='object')] are in the [columns]\""
     ]
    }
   ],
   "source": [
    "df[[df.groupby(\"Edad\").size()>10]] # KeyError: \"None of [Index([(False, False, False)], dtype='object')] are in the [columns]\"\n",
    "# df[df.groupby(\"Edad\").size()>10] #IndexingError: Unalignable boolean Series provided as indexer"
   ]
  },
  {
   "cell_type": "code",
   "execution_count": null,
   "metadata": {},
   "outputs": [],
   "source": []
  }
 ],
 "metadata": {
  "kernelspec": {
   "display_name": "Python 3",
   "language": "python",
   "name": "python3"
  },
  "language_info": {
   "codemirror_mode": {
    "name": "ipython",
    "version": 3
   },
   "file_extension": ".py",
   "mimetype": "text/x-python",
   "name": "python",
   "nbconvert_exporter": "python",
   "pygments_lexer": "ipython3",
   "version": "3.11.2"
  },
  "orig_nbformat": 4
 },
 "nbformat": 4,
 "nbformat_minor": 2
}
