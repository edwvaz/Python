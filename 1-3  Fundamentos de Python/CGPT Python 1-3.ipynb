{
 "cells": [
  {
   "cell_type": "markdown",
   "metadata": {},
   "source": [
    "#Tipos de Daatos y variables"
   ]
  },
  {
   "cell_type": "code",
   "execution_count": 2,
   "metadata": {},
   "outputs": [
    {
     "name": "stdout",
     "output_type": "stream",
     "text": [
      "5\n"
     ]
    }
   ],
   "source": [
    "#Variables\n",
    "x=5\n",
    "print(x)"
   ]
  },
  {
   "cell_type": "code",
   "execution_count": 3,
   "metadata": {},
   "outputs": [
    {
     "name": "stdout",
     "output_type": "stream",
     "text": [
      "18\n"
     ]
    }
   ],
   "source": [
    "#Asignación\n",
    "a,b,c=5,6,7\n",
    "print(a+b+c)"
   ]
  },
  {
   "cell_type": "code",
   "execution_count": 4,
   "metadata": {},
   "outputs": [],
   "source": [
    "del a"
   ]
  },
  {
   "cell_type": "code",
   "execution_count": 7,
   "metadata": {},
   "outputs": [
    {
     "name": "stdout",
     "output_type": "stream",
     "text": [
      "Roger\n"
     ]
    }
   ],
   "source": [
    "# Tipos de datos en Python\n",
    "x= \"Roger\"\n",
    "print(x)"
   ]
  },
  {
   "cell_type": "code",
   "execution_count": 10,
   "metadata": {},
   "outputs": [
    {
     "data": {
      "text/plain": [
       "int"
      ]
     },
     "execution_count": 10,
     "metadata": {},
     "output_type": "execute_result"
    }
   ],
   "source": [
    "type(x)\n",
    "type(b)"
   ]
  },
  {
   "cell_type": "code",
   "execution_count": null,
   "metadata": {},
   "outputs": [
    {
     "data": {
      "text/plain": [
       "4"
      ]
     },
     "execution_count": 1,
     "metadata": {},
     "output_type": "execute_result"
    }
   ],
   "source": [
    "2+2"
   ]
  },
  {
   "cell_type": "markdown",
   "metadata": {},
   "source": [
    "#Estructuras de Control de flujo"
   ]
  },
  {
   "cell_type": "code",
   "execution_count": 1,
   "metadata": {},
   "outputs": [
    {
     "name": "stderr",
     "output_type": "stream",
     "text": [
      "\n",
      "KeyboardInterrupt\n",
      "\n"
     ]
    }
   ],
   "source": [
    "nota=float(input (\"Introduzca su nota: \"))\n",
    "if nota<5:\n",
    "    print(\"Estás suspenso, F\")\n",
    "else:\n",
    "    print(\"Estás aprobado\")\n"
   ]
  },
  {
   "cell_type": "code",
   "execution_count": 3,
   "metadata": {},
   "outputs": [
    {
     "name": "stdout",
     "output_type": "stream",
     "text": [
      "da\n",
      "da\n",
      "da\n",
      "da\n",
      "da\n",
      "da\n"
     ]
    }
   ],
   "source": [
    "# Bucle While\n",
    "contador= 3\n",
    "while contador !=0:\n",
    "    contador = contador-1\n",
    "    print(\"da\")"
   ]
  },
  {
   "cell_type": "markdown",
   "metadata": {},
   "source": [
    "\n",
    "#Bucle for:\n",
    "Sirve para iterar sobre una colección de elementos. Ejecuta un bloque de código sobre cada elemento.\n",
    "\n",
    "Se pueden recorrer estructuras de datos como listas, tuplas, conjuntos y diccionarios (esta solo recorrerá las claves)(para que recorra los valores hay que escribir diccionario.values(), y si queremos que aparezcan ambas debemos escribir diccionario.items())."
   ]
  },
  {
   "cell_type": "code",
   "execution_count": 5,
   "metadata": {},
   "outputs": [
    {
     "name": "stdout",
     "output_type": "stream",
     "text": [
      "1\n",
      "2\n",
      "3\n"
     ]
    }
   ],
   "source": [
    "#Bucle for: sirve para iterar sobre una colección de elementos. Ejecuta un bloque de código sobre cada elemento.\n",
    "#Se pueden recorrer estructuras de datos como listas, tuplas, conjuntos y diccionarios (esta solo recorrerá las claves)(para que recorra los valores hay que escribir diccionario.values(), y si queremos que aparezcan ambas debemos escribir diccionario.items()).\n",
    "for iterador in [1,2,3]:\n",
    "    print(iterador)"
   ]
  },
  {
   "cell_type": "markdown",
   "metadata": {},
   "source": [
    "len(): para obtener el número de elementos de lo que haya dentro del parentesis.\n",
    "range(): para obtener una secuencia de indices. range(len(lista))= "
   ]
  },
  {
   "cell_type": "code",
   "execution_count": 10,
   "metadata": {},
   "outputs": [
    {
     "name": "stdout",
     "output_type": "stream",
     "text": [
      "indice 0 elemento 1\n",
      "indice 1 elemento jd\n",
      "indice 2 elemento sf\n",
      "indice 3 elemento 07\n",
      "indice 4 elemento kaka\n",
      "indice 5 elemento kld\n"
     ]
    }
   ],
   "source": [
    "lista=[\"1\",\"jd\",\"sf\",\"07\",\"kaka\",\"kld\"]\n",
    "for indice in range(len(lista)):\n",
    "    print (\"indice\", indice,\"elemento\", lista[indice])"
   ]
  },
  {
   "cell_type": "markdown",
   "metadata": {},
   "source": [
    "break: nos permite salir del bucle aunque la expresión sea true\n",
    "continue: nos permite terminar la iteración auqye no haya llegado al final y seguir con la siguiente iteración"
   ]
  },
  {
   "cell_type": "code",
   "execution_count": 12,
   "metadata": {},
   "outputs": [
    {
     "name": "stdout",
     "output_type": "stream",
     "text": [
      "0\n",
      "1\n",
      "2\n"
     ]
    }
   ],
   "source": [
    "for n in range(5):\n",
    "    if n ==3:\n",
    "        break #Notamos como se detiene cuando n=3\n",
    "    print(n)"
   ]
  },
  {
   "cell_type": "code",
   "execution_count": 13,
   "metadata": {},
   "outputs": [
    {
     "name": "stdout",
     "output_type": "stream",
     "text": [
      "0\n",
      "1\n",
      "2\n",
      "4\n"
     ]
    }
   ],
   "source": [
    "for n in range(5):\n",
    "    if n==3:\n",
    "        continue #Notamos como se salta al 3, vemos como salta a la siguiente iteración\n",
    "    print(n)"
   ]
  },
  {
   "cell_type": "markdown",
   "metadata": {},
   "source": [
    "else se ejecuta cuando el bucle termina"
   ]
  },
  {
   "cell_type": "code",
   "execution_count": null,
   "metadata": {},
   "outputs": [],
   "source": [
    "intentos=3\n",
    "\n"
   ]
  },
  {
   "cell_type": "markdown",
   "metadata": {},
   "source": [
    "Modulos de Python: son archivos de python que pueden contener clases, funciones y variables.\n",
    "\n",
    "Paquetes: Son conjuntos de módulos, relacionados entre si en un mism directorio."
   ]
  },
  {
   "cell_type": "code",
   "execution_count": 20,
   "metadata": {},
   "outputs": [
    {
     "name": "stdout",
     "output_type": "stream",
     "text": [
      "12.566370614359172\n"
     ]
    }
   ],
   "source": [
    "#Aquí importaré mi paquete. Se usan los puntos para ir aguas abajo a la carpeta o paquete o módulo\n",
    "from Geometría.calcularPerimetro import CalculaPerimetros as CP\n",
    "\n",
    "cp=CP()\n",
    "print(cp.perimetroCirculo(2))"
   ]
  },
  {
   "cell_type": "code",
   "execution_count": 21,
   "metadata": {},
   "outputs": [
    {
     "name": "stdout",
     "output_type": "stream",
     "text": [
      "3.1415\n",
      "12.566\n",
      "4\n",
      "3.0\n"
     ]
    }
   ],
   "source": [
    "import calcularArea\n",
    "from calcularArea import areaCuadrado\n",
    "from calcularArea import * #esto es para importar todo lo que está dentro del módulo\n",
    "\n",
    "print (calcularArea.pi)\n",
    "print(calcularArea.areaCirculo(2))\n",
    "print(areaCuadrado(2))\n",
    "print(calcularArea.areaTriangulo(2,3))"
   ]
  },
  {
   "cell_type": "markdown",
   "metadata": {},
   "source": [
    "Funciones: se usan para llegar al paradigma de la programación estructurada, la cual una de sus ventajas es: \\\n",
    "Modularización: divide el programa en diferentes módulos para permitir su lectura y simplificar la complejidad del problema..\\\n",
    "Reutización de código"
   ]
  },
  {
   "cell_type": "code",
   "execution_count": null,
   "metadata": {},
   "outputs": [],
   "source": [
    "#Sintaxis de la funcion\n",
    "\n",
    "#def nombre(parametros):\n",
    "#    Código dentro de la función\n",
    "#    Código dentro de la función\n",
    "#    return expresión\n",
    "#Codigo fuera de la función"
   ]
  },
  {
   "cell_type": "code",
   "execution_count": 23,
   "metadata": {},
   "outputs": [],
   "source": [
    "def saludo(): #Notar que no tiene argumentos de entrada\n",
    "    print(\"1\")\n",
    "    print(\"2\")"
   ]
  },
  {
   "cell_type": "code",
   "execution_count": 24,
   "metadata": {},
   "outputs": [
    {
     "name": "stdout",
     "output_type": "stream",
     "text": [
      "1\n",
      "2\n",
      "1\n",
      "2\n"
     ]
    }
   ],
   "source": [
    "saludo()\n",
    "saludo()"
   ]
  },
  {
   "cell_type": "code",
   "execution_count": 25,
   "metadata": {},
   "outputs": [],
   "source": [
    "def saludo(nombre):\n",
    "    print(\"Hola\", nombre)"
   ]
  },
  {
   "cell_type": "code",
   "execution_count": 32,
   "metadata": {},
   "outputs": [
    {
     "name": "stdout",
     "output_type": "stream",
     "text": [
      "Hola Edwi\n"
     ]
    }
   ],
   "source": [
    "\n",
    "saludo(\"Edwi\")"
   ]
  },
  {
   "cell_type": "code",
   "execution_count": 33,
   "metadata": {},
   "outputs": [],
   "source": [
    "def resta(a,b):\n",
    "    return a-b"
   ]
  },
  {
   "cell_type": "code",
   "execution_count": 38,
   "metadata": {},
   "outputs": [
    {
     "name": "stdout",
     "output_type": "stream",
     "text": [
      "La resta es  8\n"
     ]
    }
   ],
   "source": [
    "c=resta(10,2)\n",
    "print(\"La resta es \",c)"
   ]
  },
  {
   "cell_type": "code",
   "execution_count": 39,
   "metadata": {},
   "outputs": [
    {
     "name": "stdout",
     "output_type": "stream",
     "text": [
      "La resta es  -8\n"
     ]
    }
   ],
   "source": [
    "c=resta(b=10,a=2)\n",
    "print(\"La resta es \",c)"
   ]
  },
  {
   "cell_type": "code",
   "execution_count": null,
   "metadata": {},
   "outputs": [],
   "source": [
    "c=resta(10,2)\n",
    "print(\"La resta es \",c)"
   ]
  },
  {
   "cell_type": "code",
   "execution_count": 40,
   "metadata": {},
   "outputs": [],
   "source": [
    "def resta(a=None, b=None):\n",
    "    if a==None or b==None:\n",
    "        return \"Debes dar dos argumentos\"\n",
    "    else:\n",
    "        return a-b"
   ]
  },
  {
   "cell_type": "code",
   "execution_count": 42,
   "metadata": {},
   "outputs": [
    {
     "data": {
      "text/plain": [
       "1"
      ]
     },
     "execution_count": 42,
     "metadata": {},
     "output_type": "execute_result"
    }
   ],
   "source": [
    "resta(5,4)"
   ]
  },
  {
   "cell_type": "code",
   "execution_count": 43,
   "metadata": {},
   "outputs": [],
   "source": [
    "def convertirCelciusAFarenhait(a):\n",
    "    return a*(9/5)+32"
   ]
  },
  {
   "cell_type": "code",
   "execution_count": 44,
   "metadata": {},
   "outputs": [
    {
     "data": {
      "text/plain": [
       "68.0"
      ]
     },
     "execution_count": 44,
     "metadata": {},
     "output_type": "execute_result"
    }
   ],
   "source": [
    "convertirCelcius(20)"
   ]
  },
  {
   "cell_type": "code",
   "execution_count": null,
   "metadata": {},
   "outputs": [],
   "source": []
  }
 ],
 "metadata": {
  "kernelspec": {
   "display_name": "Python 3",
   "language": "python",
   "name": "python3"
  },
  "language_info": {
   "codemirror_mode": {
    "name": "ipython",
    "version": 3
   },
   "file_extension": ".py",
   "mimetype": "text/x-python",
   "name": "python",
   "nbconvert_exporter": "python",
   "pygments_lexer": "ipython3",
   "version": "3.11.2"
  },
  "orig_nbformat": 4
 },
 "nbformat": 4,
 "nbformat_minor": 2
}
